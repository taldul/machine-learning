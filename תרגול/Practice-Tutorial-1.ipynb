{
 "cells": [
  {
   "cell_type": "markdown",
   "id": "317d5dc8-434e-4685-9d66-61f4dbf0d120",
   "metadata": {},
   "source": [
    "<h3> Practice Tutorial 1 - Python </h3>\n",
    "<p> <strong> Note: </strong> this tutorial is a required assignment and must be completed on a pass/fail basis. <br>\n",
    "A passing grade is needed in each practice tutorial to complete the course.\n",
    "\n",
    "Please change the file name to: **Tutorial1-ID1#########-ID2#########**.</p>"
   ]
  },
  {
   "cell_type": "markdown",
   "id": "c68042bc-559e-4d83-942f-54b510a685d9",
   "metadata": {},
   "source": [
    "<strong> Assignment #1 </strong> \n",
    "\n",
    "<p> Write a function named <strong> cube_volume </strong> that when given a length of a line, returns the area of a cube. </p>\n",
    "<p> For exmaple cube_volume(7) returns 343. </p>"
   ]
  },
  {
   "cell_type": "code",
   "execution_count": null,
   "id": "4781d5cd-9d37-4a11-be5f-a5e0800b8f9a",
   "metadata": {},
   "outputs": [],
   "source": []
  },
  {
   "cell_type": "markdown",
   "id": "5005ae14-62c6-444d-b8e0-36fff07a1a36",
   "metadata": {},
   "source": [
    "<strong> Assignment #2 </strong>\n",
    "\n",
    "<p> Write a function named <strong> parse_words </strong>, that given a string prints each word in a different line. </p>\n",
    "<p> For example parse_words (\"<em><strong> Lorem ipsum dolor sit amet, vis dolore soleat </em></strong>\")  will pe printed as</p>\n",
    "<p> Lorem </p>\n",
    "<p> ipsum </p>\n",
    "<p> dolor </p>\n",
    "<p> sit </p>\n",
    "<p> amet, </p>\n",
    "<p> vis </p>\n",
    "<p> dolore </p>\n",
    "<p> soleat </p>"
   ]
  },
  {
   "cell_type": "code",
   "execution_count": null,
   "id": "18bbca3c-9f84-4b53-a439-1d07fc566155",
   "metadata": {},
   "outputs": [],
   "source": []
  },
  {
   "cell_type": "markdown",
   "id": "10055a5c-246c-4767-b198-0378ef861951",
   "metadata": {},
   "source": [
    "<p> <strong> Assignment #3 </strong> </p>\n"
   ]
  },
  {
   "cell_type": "code",
   "execution_count": 17,
   "id": "3b03673a-3412-477d-8991-1aea5b2b3a6d",
   "metadata": {},
   "outputs": [],
   "source": [
    "state_names = ['Alabama', 'Alaska', 'Arizona', 'Arkansas', 'California', 'Colorado', 'Connecticut', \n",
    "               'Delaware', 'Florida', 'Georgia', 'Hawaii', 'Idaho', 'Illinois', 'Indiana', 'Iowa', \n",
    "               'Kansas', 'Kentucky', 'Louisiana', 'Maine', 'Maryland', 'Massachusetts', 'Michigan', \n",
    "               'Minnesota', 'Mississippi', 'Missouri', 'Montana', 'Nebraska', 'Nevada', 'New Hampshire', \n",
    "               'New Jersey', 'New Mexico', 'New York', 'North Carolina', 'North Dakota', 'Ohio', \n",
    "               'Oklahoma', 'Oregon', 'Pennsylvania', 'Rhode Island', 'South Carolina', 'South Dakota', \n",
    "               'Tennessee', 'Texas', 'Utah', 'Vermont', 'Virginia', 'Washington', 'West Virginia', \n",
    "               'Wisconsin', 'Wyoming']"
   ]
  },
  {
   "cell_type": "markdown",
   "id": "41114587-c802-4333-b116-1c82584a78cb",
   "metadata": {},
   "source": [
    "<p> The <em> list </em> <strong> state_names </strong> contains all names of the states that comprise the United States.\n",
    "\n",
    "Create a <em> dictionary </em> data structure, called <strong> state_name_length </strong> such that when a valid state name \n",
    "is entered as a key the length of the name of the state will be returned as its value. </p>\n",
    "\n",
    "<p> example 1: print(state_name_length.get(\"Alaska\") will print 6. </p>\n",
    "<p> example 2: print(state_name_length.get(\"New York\") will print 8. </p>\n",
    "                                           \n",
    "\n",
    "\n",
    "\n",
    "\n"
   ]
  },
  {
   "cell_type": "markdown",
   "id": "81676f0d-71cb-4412-8726-816cac212d1a",
   "metadata": {},
   "source": [
    "<strong> Assignment #4 </strong>"
   ]
  },
  {
   "cell_type": "code",
   "execution_count": 32,
   "id": "395e2729-0186-4160-9d7e-aef53144a299",
   "metadata": {},
   "outputs": [],
   "source": [
    "#creating a list of 1000 random integers, with each integer \n",
    "#between 1 and 1000.\n",
    "from random import randrange\n",
    "\n",
    "a_list = []\n",
    "for i in range(1,1001):\n",
    "    x = randrange(1,1001)\n",
    "    a_list.append(x)"
   ]
  },
  {
   "cell_type": "markdown",
   "id": "d321ea19-4fb4-41f2-989b-86ede5e5e219",
   "metadata": {},
   "source": [
    "<p> Create a <em> set </em> data structure named <strong> a_set </strong> from a_list. Find and print the length\n",
    "of the <strong> a_set </strong>. </p>"
   ]
  },
  {
   "cell_type": "code",
   "execution_count": null,
   "id": "89a16e2a-8d21-4977-ac1b-942cff594ea4",
   "metadata": {},
   "outputs": [],
   "source": []
  },
  {
   "cell_type": "markdown",
   "id": "4f1d1921-438b-4c8f-973c-519fec736a7d",
   "metadata": {},
   "source": [
    "<p> Explain using the chunk below and with <strong> <em> Markdown </em> </strong>, why a_set has a smaller length compared to a_list.</p>  "
   ]
  },
  {
   "cell_type": "code",
   "execution_count": null,
   "id": "a99f4c2a-7568-405c-bc6a-c96a6448f9fe",
   "metadata": {},
   "outputs": [],
   "source": []
  },
  {
   "cell_type": "markdown",
   "id": "8afbac6e-ba1a-427b-ad50-01688bdee68b",
   "metadata": {},
   "source": [
    "<strong> Assignment #5 </strong>\n",
    "\n",
    "<p> Write a function <strong> today_date </strong> that prints today's date in the format MM-DD-YYYY. </p>\n",
    "<p> For example if today is March 10, 2023, the function will print <em> 10-03-2023 </em>. </p>"
   ]
  },
  {
   "cell_type": "code",
   "execution_count": null,
   "id": "338b22dc-21a5-4af0-9004-3955797a659f",
   "metadata": {},
   "outputs": [],
   "source": []
  }
 ],
 "metadata": {
  "kernelspec": {
   "display_name": "Python 3 (ipykernel)",
   "language": "python",
   "name": "python3"
  },
  "language_info": {
   "codemirror_mode": {
    "name": "ipython",
    "version": 3
   },
   "file_extension": ".py",
   "mimetype": "text/x-python",
   "name": "python",
   "nbconvert_exporter": "python",
   "pygments_lexer": "ipython3",
   "version": "3.9.7"
  }
 },
 "nbformat": 4,
 "nbformat_minor": 5
}
